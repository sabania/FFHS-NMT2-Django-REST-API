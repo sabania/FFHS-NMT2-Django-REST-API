{
 "nbformat": 4,
 "nbformat_minor": 2,
 "metadata": {
  "language_info": {
   "name": "python",
   "codemirror_mode": {
    "name": "ipython",
    "version": 3
   },
   "version": "3.5.6-final"
  },
  "orig_nbformat": 2,
  "file_extension": ".py",
  "mimetype": "text/x-python",
  "name": "python",
  "npconvert_exporter": "python",
  "pygments_lexer": "ipython3",
  "version": 3,
  "kernelspec": {
   "name": "python35664bitdockernmtconda8f97286f19d540e9be48e71aa6b6d389",
   "display_name": "Python 3.5.6 64-bit ('dockernmt': conda)"
  }
 },
 "cells": [
  {
   "cell_type": "code",
   "execution_count": null,
   "metadata": {},
   "outputs": [],
   "source": [
    "from __future__ import absolute_import\n",
    "from __future__ import division\n",
    "from __future__ import print_function\n",
    "from ipywidgets import widgets\n",
    "from IPython.core.display import display, HTML\n",
    "import os\n",
    "import importlib\n",
    "from IPython.display import display\n",
    "\n",
    "from oauth2client.client import GoogleCredentials\n",
    "from six.moves import input  # pylint: disable=redefined-builtin\n",
    "\n",
    "from tensor2tensor import problems as problems_lib  # pylint: disable=unused-import\n",
    "from tensor2tensor.serving import serving_utils\n",
    "from tensor2tensor.utils import registry\n",
    "from tensor2tensor.utils import usr_dir\n",
    "from tensor2tensor.utils.hparam import HParams\n",
    "import tensorflow as tf"
   ]
  },
  {
   "cell_type": "code",
   "execution_count": null,
   "metadata": {},
   "outputs": [],
   "source": [
    "t2t_usr_dir = '../tensorTotensor/code/MyProblems'\n",
    "dir_path = os.path.abspath(os.path.expanduser(t2t_usr_dir).rstrip(\"/\"))\n",
    "containing_dir, module_name = os.path.split(dir_path)\n",
    "print(containing_dir)\n",
    "print(module_name)\n",
    "sys.path.insert(0, containing_dir)\n",
    "importlib.import_module(module_name)\n",
    "print(sys.path.pop(0))\n",
    "#usr_dir.import_usr_dir(t2t_usr_dir)"
   ]
  },
  {
   "cell_type": "code",
   "execution_count": null,
   "metadata": {},
   "outputs": [],
   "source": []
  }
 ]
}